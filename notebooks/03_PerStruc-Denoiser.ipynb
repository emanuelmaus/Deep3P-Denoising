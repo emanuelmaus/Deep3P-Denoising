{
 "cells": [
  {
   "attachments": {},
   "cell_type": "markdown",
   "metadata": {},
   "source": [
    "# PerStruc-Denoiser"
   ]
  },
  {
   "cell_type": "code",
   "execution_count": null,
   "metadata": {},
   "outputs": [],
   "source": [
    "# Jupyter-notebook magic\n",
    "\n",
    "# For the matplotlib \n",
    "%matplotlib inline\n",
    "# For reload functions explicitly\n",
    "%load_ext autoreload\n",
    "%autoreload 2"
   ]
  },
  {
   "cell_type": "code",
   "execution_count": null,
   "metadata": {},
   "outputs": [],
   "source": [
    "# Imports\n",
    "\n",
    "## Add the modules to the system path\n",
    "import os\n",
    "import sys\n",
    "sys.path.append(os.path.join(\"..\"))\n",
    "\n",
    "## Libs\n",
    "import glob\n",
    "import tifffile\n",
    "import matplotlib.pyplot as plt\n",
    "import numpy as np\n",
    "\n",
    "## Own modules\n",
    "from perstruc_denoiser import perstruc_denoiser\n",
    "import utils"
   ]
  },
  {
   "cell_type": "markdown",
   "metadata": {},
   "source": [
    "## Folder Structures"
   ]
  },
  {
   "cell_type": "code",
   "execution_count": null,
   "metadata": {},
   "outputs": [],
   "source": [
    "# Enter the store path for the results and denoised file (with periodic structured noise) here #\n",
    "path_results = os.path.join(\"..\", \"results_PerStruc-Denoiser\")\n",
    "path_dataset = os.path.join(\"..\", \"data\", \"PerStruc-Denoiser\")\n",
    "#********************************************************#"
   ]
  },
  {
   "cell_type": "code",
   "execution_count": null,
   "metadata": {},
   "outputs": [],
   "source": [
    "# Create a folder for the PerStruc-Denoiser results folder\n",
    "\n",
    "# Make a folder to store the PerStruc-Denoiser\n",
    "os.makedirs(path_results, exist_ok=True)"
   ]
  },
  {
   "attachments": {},
   "cell_type": "markdown",
   "metadata": {},
   "source": [
    "## Load data"
   ]
  },
  {
   "cell_type": "code",
   "execution_count": null,
   "metadata": {},
   "outputs": [],
   "source": [
    "## Load image stack \n",
    "filenames_raw = glob.glob(os.path.join(path_dataset, \"*-raw.tif\"))\n",
    "filenames_denoised = glob.glob(os.path.join(path_dataset, \"*-denoised.tif\"))\n",
    "print(\"Following denoised file will be PerStruc-denoised:  \", filenames_denoised[0])\n",
    "\n",
    "file_raw = tifffile.imread(filenames_raw[0])\n",
    "file_denoised = tifffile.imread(filenames_denoised[0])"
   ]
  },
  {
   "attachments": {},
   "cell_type": "markdown",
   "metadata": {},
   "source": [
    "## Check the periodic structured noise"
   ]
  },
  {
   "cell_type": "code",
   "execution_count": null,
   "metadata": {},
   "outputs": [],
   "source": [
    "# Example image\n",
    "file_example_denoised = file_denoised[file_denoised.shape[0]//2]\n",
    "\n",
    "# Autocorrelation\n",
    "example_autocorrelation = utils.autocorrelation(file_example_denoised)\n",
    "\n",
    "# Line power spectrum\n",
    "freqs, example_line_spectrum = utils.line_power_spectrum(file_example_denoised)"
   ]
  },
  {
   "cell_type": "code",
   "execution_count": null,
   "metadata": {},
   "outputs": [],
   "source": [
    "plt.figure(figsize=(30, 10))\n",
    "\n",
    "plt.subplot(311)\n",
    "plt.title(\"Example image (3PM-N2V)\")\n",
    "plt.imshow(file_example_denoised, cmap=\"Greens\")\n",
    "\n",
    "\n",
    "plt.subplot(312)\n",
    "plt.title(\"Autocorrelation (3PM-N2V) of center patch\")\n",
    "plt.imshow(example_autocorrelation, cmap=\"magma\")\n",
    "\n",
    "plt.subplot(313)\n",
    "plt.title(\"Averaged line power spectrum (3PM-N2V)\")\n",
    "plt.plot(freqs, example_line_spectrum, linewidth = 5, label=\"3PM-Noise2Void\")\n",
    "plt.ylabel(\"Normlized spectral power\")\n",
    "plt.xlabel(r\"Spatial frequency [$Pixel^{-1}$]\")\n",
    "plt.legend()\n",
    "\n",
    "plt.tight_layout\n",
    "plt.show()"
   ]
  },
  {
   "attachments": {},
   "cell_type": "markdown",
   "metadata": {},
   "source": [
    "## Detect the main frequency of the periodic structured noise"
   ]
  },
  {
   "attachments": {},
   "cell_type": "markdown",
   "metadata": {},
   "source": [
    "### Main frequency of the periodic structured noise \n",
    "  \n",
    "The main frequency needs to be detected for the PerStruc-Denoiser to work effectively. Therefore, the line-wise spectrum of an example image (see below) of the recording needs to be inspected. The main components of periodic structured noise should be in the middle between left side and center of the spectrum and is clearly visible as a peak.\n",
    "\n",
    "### Frequencies of remaining high frequency structured noise\n",
    "\n",
    "There are some recordings, which contain high frequencies structured noise. This is visible as a peak close to the center of the line spectrum (see below) and can be effectively removed with an additional gaussian ($\\sigma_{mask} = 1\\ pixel$)."
   ]
  },
  {
   "cell_type": "code",
   "execution_count": null,
   "metadata": {},
   "outputs": [],
   "source": [
    "img_ft_line = utils.line_fft(file_example_denoised)\n",
    "\n",
    "plt.figure(figsize=(20,15))\n",
    "plt.imshow(np.log(np.abs(img_ft_line)), cmap='magma')\n",
    "plt.rc('xtick', labelsize=18)\n",
    "plt.show()"
   ]
  },
  {
   "cell_type": "code",
   "execution_count": null,
   "metadata": {},
   "outputs": [],
   "source": [
    "# Select a x-range to detected the exact x-position of the main frequency of the periodic structured noise #\n",
    "x_range = [60, 80]\n",
    "#**********************************************************************************************************#"
   ]
  },
  {
   "cell_type": "code",
   "execution_count": null,
   "metadata": {},
   "outputs": [],
   "source": [
    "plt.figure(figsize=(10,5))\n",
    "plt.plot(np.median(np.log(np.abs(img_ft_line)), axis=0))\n",
    "plt.xlim([x_range[0], x_range[1]])\n",
    "plt.rc('xtick', labelsize=18)\n",
    "plt.show()"
   ]
  },
  {
   "cell_type": "code",
   "execution_count": null,
   "metadata": {},
   "outputs": [],
   "source": [
    "# Select the exact x-position of the main frequency of the periodic structured noise #\n",
    "PEAK_POSITION = 72\n",
    "#************************************************************************************#"
   ]
  },
  {
   "attachments": {},
   "cell_type": "markdown",
   "metadata": {},
   "source": [
    "## Apply PerStruc-Denoiser"
   ]
  },
  {
   "cell_type": "code",
   "execution_count": null,
   "metadata": {},
   "outputs": [],
   "source": [
    "file_denoised_pp = perstruc_denoiser(file_denoised, PEAK_POSITION)"
   ]
  },
  {
   "cell_type": "code",
   "execution_count": null,
   "metadata": {},
   "outputs": [],
   "source": [
    "plt.figure(figsize=(30, 10))\n",
    "\n",
    "plt.subplot(311)\n",
    "plt.title(\"Example image (Raw)\")\n",
    "plt.imshow(file_raw[file_raw.shape[0]//2], cmap=\"Greens\")\n",
    "\n",
    "\n",
    "plt.subplot(312)\n",
    "plt.title(\"Example image (3PM-N2V)\")\n",
    "plt.imshow(file_example_denoised, cmap=\"Greens\")\n",
    "\n",
    "plt.subplot(313)\n",
    "plt.title(\"Example image (3PM-N2V+PerStruc-Denoiser)\")\n",
    "plt.imshow(file_denoised_pp[file_denoised_pp.shape[0]//2], cmap=\"Greens\")\n",
    "\n",
    "plt.tight_layout\n",
    "plt.show()"
   ]
  },
  {
   "cell_type": "code",
   "execution_count": null,
   "metadata": {},
   "outputs": [],
   "source": [
    "## Line power spectrum\n",
    "# Raw\n",
    "freqs, line_spectrum_raw = utils.line_power_spectrum(file_raw[file_raw.shape[0]//2])\n",
    "# 3PM-N2V\n",
    "_, line_spectrum_denoised = utils.line_power_spectrum(file_example_denoised)\n",
    "# 3PM-N2V+PerStruc-Denoiser\n",
    "_, line_spectrum_denoised_pp = utils.line_power_spectrum(file_denoised_pp[file_denoised_pp.shape[0]//2])\n",
    "\n",
    "plt.figure(figsize=(30, 10))\n",
    "\n",
    "plt.subplot(311)\n",
    "plt.title(\"Averaged line power spectrum (Raw)\")\n",
    "plt.plot(freqs, line_spectrum_raw, linewidth = 5, label=\"Raw\")\n",
    "plt.ylabel(\"Normlized spectral power\")\n",
    "plt.xlabel(r\"Spatial frequency [$Pixel^{-1}$]\")\n",
    "\n",
    "plt.subplot(312)\n",
    "plt.title(\"Averaged line power spectrum (3PM-Noise2Void)\")\n",
    "plt.plot(freqs, line_spectrum_denoised, linewidth = 5, label=\"3PM-N2V\")\n",
    "plt.ylabel(\"Normlized spectral power\")\n",
    "plt.xlabel(r\"Spatial frequency [$Pixel^{-1}$]\")\n",
    "\n",
    "plt.subplot(313)\n",
    "plt.title(\"Averaged line power spectrum (3PM-Noise2Void+PerStruc-Denoiser)\")\n",
    "plt.plot(freqs, line_spectrum_denoised_pp, linewidth = 5, label=\"3PM-N2V+PerStruc-Denoiser\")\n",
    "plt.ylabel(\"Normlized spectral power\")\n",
    "plt.xlabel(r\"Spatial frequency [$Pixel^{-1}$]\")\n",
    "\n",
    "plt.tight_layout\n",
    "plt.show()"
   ]
  },
  {
   "attachments": {},
   "cell_type": "markdown",
   "metadata": {},
   "source": [
    "## Apply PerStruc-Denoiser + 1D-Gaussian-Filter"
   ]
  },
  {
   "cell_type": "code",
   "execution_count": null,
   "metadata": {},
   "outputs": [],
   "source": [
    "file_denoised_pp_1D = perstruc_denoiser(file_denoised, PEAK_POSITION, use_gaussian=True)"
   ]
  },
  {
   "cell_type": "code",
   "execution_count": null,
   "metadata": {},
   "outputs": [],
   "source": [
    "plt.figure(figsize=(40, 10))\n",
    "\n",
    "plt.subplot(411)\n",
    "plt.title(\"Example image (Raw)\")\n",
    "plt.imshow(file_raw[file_raw.shape[0]//2], cmap=\"Greens\")\n",
    "\n",
    "\n",
    "plt.subplot(412)\n",
    "plt.title(\"Example image (3PM-N2V)\")\n",
    "plt.imshow(file_example_denoised, cmap=\"Greens\")\n",
    "\n",
    "plt.subplot(413)\n",
    "plt.title(\"Example image (3PM-N2V+PerStruc-Denoiser)\")\n",
    "plt.imshow(file_denoised_pp[file_denoised_pp.shape[0]//2], cmap=\"Greens\")\n",
    "\n",
    "plt.subplot(414)\n",
    "plt.title(\"Example image (3PM-N2V+PerStruc-Denoiser+Gaussian Filter)\")\n",
    "plt.imshow(file_denoised_pp_1D[file_denoised_pp_1D.shape[0]//2], cmap=\"Greens\")\n",
    "\n",
    "plt.tight_layout\n",
    "plt.show()"
   ]
  },
  {
   "cell_type": "code",
   "execution_count": null,
   "metadata": {},
   "outputs": [],
   "source": [
    "## Line power spectrum\n",
    "# 3PM-N2V+PerStruc-Denoiser+Gaussian Filter\n",
    "_, line_spectrum_denoised_pp_1D = utils.line_power_spectrum(file_denoised_pp_1D[file_denoised_pp_1D.shape[0]//2])\n",
    "\n",
    "plt.figure(figsize=(40, 10))\n",
    "\n",
    "plt.subplot(411)\n",
    "plt.title(\"Averaged line power spectrum (Raw)\")\n",
    "plt.plot(freqs, line_spectrum_raw, linewidth = 5, label=\"Raw\")\n",
    "plt.ylabel(\"Normlized spectral power\")\n",
    "plt.xlabel(r\"Spatial frequency [$Pixel^{-1}$]\")\n",
    "\n",
    "plt.subplot(412)\n",
    "plt.title(\"Averaged line power spectrum (3PM-Noise2Void)\")\n",
    "plt.plot(freqs, line_spectrum_denoised, linewidth = 5, label=\"3PM-N2V\")\n",
    "plt.ylabel(\"Normlized spectral power\")\n",
    "plt.xlabel(r\"Spatial frequency [$Pixel^{-1}$]\")\n",
    "\n",
    "plt.subplot(413)\n",
    "plt.title(\"Averaged line power spectrum (3PM-Noise2Void+PerStruc-Denoiser)\")\n",
    "plt.plot(freqs, line_spectrum_denoised_pp, linewidth = 5, label=\"3PM-N2V+PerStruc-Denoiser\")\n",
    "plt.ylabel(\"Normlized spectral power\")\n",
    "plt.xlabel(r\"Spatial frequency [$Pixel^{-1}$]\")\n",
    "\n",
    "plt.subplot(414)\n",
    "plt.title(\"Averaged line power spectrum (3PM-Noise2Void+PerStruc-Denoiser+Gaussian Filter)\")\n",
    "plt.plot(freqs, line_spectrum_denoised_pp_1D, linewidth = 5, label=\"3PM-N2V+PerStruc-Denoiser+Gaussian Filter\")\n",
    "plt.ylabel(\"Normlized spectral power\")\n",
    "plt.xlabel(r\"Spatial frequency [$Pixel^{-1}$]\")\n",
    "\n",
    "plt.tight_layout\n",
    "plt.show()"
   ]
  },
  {
   "attachments": {},
   "cell_type": "markdown",
   "metadata": {},
   "source": [
    "## Store the PerStruc-Denoiser results"
   ]
  },
  {
   "cell_type": "code",
   "execution_count": null,
   "metadata": {},
   "outputs": [],
   "source": [
    "store_name_raw = os.path.join(path_results, filenames_raw[0].split(os.sep)[-1])\n",
    "tifffile.imwrite(store_name_raw, file_raw)"
   ]
  },
  {
   "cell_type": "code",
   "execution_count": null,
   "metadata": {},
   "outputs": [],
   "source": [
    "store_name_denoised = os.path.join(path_results, filenames_denoised[0].split(os.sep)[-1])\n",
    "tifffile.imwrite(store_name_denoised, file_denoised)"
   ]
  },
  {
   "cell_type": "code",
   "execution_count": null,
   "metadata": {},
   "outputs": [],
   "source": [
    "store_name_denoised_pp = os.path.join(path_results, filenames_denoised[0].split(os.sep)[-1][:-4] + '-PP.tif')\n",
    "tifffile.imwrite(store_name_denoised_pp, file_denoised_pp)"
   ]
  },
  {
   "cell_type": "code",
   "execution_count": null,
   "metadata": {},
   "outputs": [],
   "source": [
    "store_name_denoised_pp_1D = os.path.join(path_results, filenames_denoised[0].split(os.sep)[-1][:-4] + '-PP-1D.tif')\n",
    "tifffile.imwrite(store_name_denoised_pp_1D, file_denoised_pp_1D)"
   ]
  }
 ],
 "metadata": {
  "language_info": {
   "name": "python"
  },
  "orig_nbformat": 4
 },
 "nbformat": 4,
 "nbformat_minor": 2
}
